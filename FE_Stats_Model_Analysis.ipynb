{
 "cells": [
  {
   "cell_type": "markdown",
   "metadata": {},
   "source": [
    "# FE Stats Classifier Model Analysis"
   ]
  },
  {
   "cell_type": "code",
   "execution_count": 1,
   "metadata": {},
   "outputs": [],
   "source": [
    "# [FE_Stats_Data_Analysis]: Need to include path to the singleton pattern impl due to a dependency from the CharacterStatsAnalysis class\n",
    "# Note: The directory is based of the current working dir of the notebook since the class base directory changes to this one\n",
    "import sys, os\n",
    "\n",
    "sys.path.append(os.path.abspath('src/Singleton'))\n",
    "\n",
    "import torch\n",
    "import torch.utils.data as torch_data\n",
    "from src.Models.FEMLPClassifier import FEMLPClassifier\n",
    "from src.Models.run_forward_pytorch import run_train_forward_pytorch\n",
    "from src.Models.StatsDataset import StatsDataset\n",
    "\n",
    "accel_device = \"cuda:0\"\n",
    "\n",
    "dtype = torch.float32\n",
    "\n",
    "batch_size = 8\n"
   ]
  },
  {
   "cell_type": "code",
   "execution_count": 2,
   "metadata": {},
   "outputs": [],
   "source": [
    "stats_dataset = StatsDataset(accel_device, dtype)\n",
    "train_dataset, test_dataset = torch_data.random_split(stats_dataset, [0.8, 0.2])\n",
    "train_dataset, val_dataset = torch_data.random_split(train_dataset, [0.8, 0.2])\n",
    "train_dataloader = torch_data.DataLoader(train_dataset, batch_size, True)\n",
    "\n",
    "val_dataloader = torch_data.DataLoader(val_dataset, batch_size, True)\n",
    "\n",
    "test_dataloader = torch_data.DataLoader(test_dataset, len(test_dataset))\n"
   ]
  },
  {
   "cell_type": "code",
   "execution_count": 6,
   "metadata": {},
   "outputs": [],
   "source": [
    "num_features = stats_dataset.stats_data[:, :-1].shape[1]\n",
    "num_classes = stats_dataset.stats_data[:, -1].unique().shape[0]\n",
    "classifier = FEMLPClassifier(num_features * 3, 3, num_features, num_classes, accel_device, dtype)\n"
   ]
  }
 ],
 "metadata": {
  "kernelspec": {
   "display_name": "Python 3",
   "language": "python",
   "name": "python3"
  },
  "language_info": {
   "codemirror_mode": {
    "name": "ipython",
    "version": 3
   },
   "file_extension": ".py",
   "mimetype": "text/x-python",
   "name": "python",
   "nbconvert_exporter": "python",
   "pygments_lexer": "ipython3",
   "version": "3.11.1"
  }
 },
 "nbformat": 4,
 "nbformat_minor": 2
}
