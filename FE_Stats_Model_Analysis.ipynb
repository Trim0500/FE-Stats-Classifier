{
 "cells": [
  {
   "cell_type": "markdown",
   "metadata": {},
   "source": [
    "# FE Stats Classifier Model Analysis"
   ]
  },
  {
   "cell_type": "code",
   "execution_count": 1,
   "metadata": {},
   "outputs": [],
   "source": [
    "# [FE_Stats_Data_Analysis]: Need to include path to the singleton pattern impl due to a dependency from the CharacterStatsAnalysis class\n",
    "# Note: The directory is based of the current working dir of the notebook since the class base directory changes to this one\n",
    "import sys, os\n",
    "\n",
    "sys.path.append(os.path.abspath('src/Singleton'))\n",
    "\n",
    "import torch\n",
    "import torch.utils.data as torch_data\n",
    "from src.Models.FEMLPClassifier import FEMLPClassifier\n",
    "from src.Models.run_forward_pytorch import run_train_forward_pytorch\n",
    "from src.Models.StatsDataset import StatsDataset\n",
    "\n",
    "torch.manual_seed(42)\n",
    "\n",
    "accel_device = \"cuda:0\"\n",
    "\n",
    "dtype = torch.float32\n",
    "\n",
    "batch_size = 4\n",
    "\n",
    "num_epochs = 100\n"
   ]
  },
  {
   "cell_type": "code",
   "execution_count": 2,
   "metadata": {},
   "outputs": [],
   "source": [
    "stats_dataset = StatsDataset(accel_device, dtype)\n",
    "train_dataset, test_dataset = torch_data.random_split(stats_dataset, [0.8, 0.2])\n",
    "train_dataset, val_dataset = torch_data.random_split(train_dataset, [0.8, 0.2])\n",
    "train_dataloader = torch_data.DataLoader(train_dataset, batch_size, True)\n",
    "\n",
    "val_dataloader = torch_data.DataLoader(val_dataset, batch_size, True)\n",
    "\n",
    "test_dataloader = torch_data.DataLoader(test_dataset, len(test_dataset))\n"
   ]
  },
  {
   "cell_type": "markdown",
   "metadata": {},
   "source": [
    "### **Multilayered Perceptron (MLP) Classifier**"
   ]
  },
  {
   "cell_type": "code",
   "execution_count": 3,
   "metadata": {},
   "outputs": [],
   "source": [
    "num_features = stats_dataset.stats_data[:, :-1].shape[1]\n",
    "num_classes = stats_dataset.stats_data[:, -1].unique().shape[0]\n",
    "\n",
    "baseline_sgd_config = { \"optim_name\":\"SGD\",\"lr\":0.001,\"weight_decay\":1e-6 }\n"
   ]
  },
  {
   "cell_type": "markdown",
   "metadata": {},
   "source": [
    "#### Balanced Complexity"
   ]
  },
  {
   "cell_type": "code",
   "execution_count": 4,
   "metadata": {},
   "outputs": [],
   "source": [
    "baslanced_mlp_classifier = FEMLPClassifier(num_features * 3, 3, num_features, num_classes, accel_device, dtype)\n"
   ]
  },
  {
   "cell_type": "code",
   "execution_count": 5,
   "metadata": {},
   "outputs": [
    {
     "name": "stdout",
     "output_type": "stream",
     "text": [
      "[INFO] Epoch 1/100: Train/Validation loss = 2.2011/2.3517, train/validation accuracy = 12.50%/25.00%\n",
      "\n",
      "[INFO] Epoch 2/100: Train/Validation loss = 2.1762/2.3302, train/validation accuracy = 18.75%/25.00%\n",
      "\n",
      "[INFO] Epoch 3/100: Train/Validation loss = 2.1584/2.3143, train/validation accuracy = 18.75%/0.00%\n",
      "\n",
      "[INFO] Epoch 4/100: Train/Validation loss = 2.1424/2.3026, train/validation accuracy = 18.75%/0.00%\n",
      "\n",
      "[INFO] Epoch 5/100: Train/Validation loss = 2.1316/2.2934, train/validation accuracy = 18.75%/0.00%\n",
      "\n",
      "[INFO] Epoch 6/100: Train/Validation loss = 2.1118/2.2885, train/validation accuracy = 25.00%/0.00%\n",
      "\n",
      "[INFO] Epoch 7/100: Train/Validation loss = 2.1000/2.2856, train/validation accuracy = 25.00%/0.00%\n",
      "\n",
      "[INFO] Epoch 8/100: Train/Validation loss = 2.0989/2.2853, train/validation accuracy = 25.00%/0.00%\n",
      "\n",
      "[INFO] Epoch 9/100: Train/Validation loss = 2.0813/2.2846, train/validation accuracy = 25.00%/0.00%\n",
      "\n",
      "[INFO] Epoch 10/100: Train/Validation loss = 2.0721/2.2854, train/validation accuracy = 25.00%/0.00%\n",
      "\n"
     ]
    }
   ],
   "source": [
    "balanced_mlp_history = run_train_forward_pytorch(baslanced_mlp_classifier, train_dataloader, val_dataloader, num_epochs, baseline_sgd_config, accel_device, dtype)\n"
   ]
  }
 ],
 "metadata": {
  "kernelspec": {
   "display_name": "Python 3",
   "language": "python",
   "name": "python3"
  },
  "language_info": {
   "codemirror_mode": {
    "name": "ipython",
    "version": 3
   },
   "file_extension": ".py",
   "mimetype": "text/x-python",
   "name": "python",
   "nbconvert_exporter": "python",
   "pygments_lexer": "ipython3",
   "version": "3.11.1"
  }
 },
 "nbformat": 4,
 "nbformat_minor": 2
}
