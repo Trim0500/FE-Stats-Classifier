{
 "cells": [
  {
   "cell_type": "markdown",
   "metadata": {},
   "source": [
    "# FE Stats Character Analysis"
   ]
  },
  {
   "cell_type": "markdown",
   "metadata": {},
   "source": [
    "### A notebook to showcase the distributions of stat lines for the following characters\n",
    "- #### ***Marth***\n",
    "- #### ***Linde***\n",
    "- #### ***Palla***\n",
    "- #### ***Alm***\n",
    "- #### ***Roy***\n",
    "- #### ***Lilina***\n",
    "- #### ***Claude***\n",
    "- #### ***Lysithea***"
   ]
  },
  {
   "cell_type": "markdown",
   "metadata": {},
   "source": [
    "### For each character, the following considerations are applied regarding data collection\n",
    "- #### *Analysis based on comparison with character with most amount of appearances (provided stats are comparable) and stat disribution (in %) after normalizing data and averaging*\n",
    "- #### *Use base stats from joining time*\n",
    "- #### *Include DLC and other means outside of strict base game availability*\n",
    "- #### *No spin-offs (except FEH)*\n",
    "- #### *Do not include seasonal FEH alts*"
   ]
  },
  {
   "cell_type": "markdown",
   "metadata": {},
   "source": [
    "### The analysis aims find out how the average stat line describes the character's key attributes based on an interpretation of what each individual stat means and how it is measured. Then it will be utilized to see if there is parity between the in-game descriptions and lore of the character and the stats they are attributed as a player unit."
   ]
  },
  {
   "cell_type": "markdown",
   "metadata": {},
   "source": [
    "### **Analysis**"
   ]
  },
  {
   "cell_type": "code",
   "execution_count": 1,
   "metadata": {},
   "outputs": [],
   "source": [
    "import pandas\n"
   ]
  },
  {
   "cell_type": "markdown",
   "metadata": {},
   "source": [
    "#### What Does Each Stat Mean?"
   ]
  },
  {
   "cell_type": "markdown",
   "metadata": {},
   "source": [
    "- Some text (i want to code first)"
   ]
  },
  {
   "cell_type": "markdown",
   "metadata": {},
   "source": [
    "#### Getting the Data"
   ]
  },
  {
   "cell_type": "code",
   "execution_count": 18,
   "metadata": {},
   "outputs": [
    {
     "data": {
      "text/html": [
       "<div>\n",
       "<style scoped>\n",
       "    .dataframe tbody tr th:only-of-type {\n",
       "        vertical-align: middle;\n",
       "    }\n",
       "\n",
       "    .dataframe tbody tr th {\n",
       "        vertical-align: top;\n",
       "    }\n",
       "\n",
       "    .dataframe thead th {\n",
       "        text-align: right;\n",
       "    }\n",
       "</style>\n",
       "<table border=\"1\" class=\"dataframe\">\n",
       "  <thead>\n",
       "    <tr style=\"text-align: right;\">\n",
       "      <th></th>\n",
       "      <th>hp</th>\n",
       "      <th>atk</th>\n",
       "      <th>skl</th>\n",
       "      <th>spd</th>\n",
       "      <th>lck</th>\n",
       "      <th>def</th>\n",
       "      <th>res</th>\n",
       "      <th>character</th>\n",
       "    </tr>\n",
       "  </thead>\n",
       "  <tbody>\n",
       "    <tr>\n",
       "      <th>0</th>\n",
       "      <td>18</td>\n",
       "      <td>5</td>\n",
       "      <td>3</td>\n",
       "      <td>7</td>\n",
       "      <td>7</td>\n",
       "      <td>7</td>\n",
       "      <td>0</td>\n",
       "      <td>Marth</td>\n",
       "    </tr>\n",
       "    <tr>\n",
       "      <th>1</th>\n",
       "      <td>22</td>\n",
       "      <td>6</td>\n",
       "      <td>8</td>\n",
       "      <td>9</td>\n",
       "      <td>8</td>\n",
       "      <td>7</td>\n",
       "      <td>0</td>\n",
       "      <td>Marth</td>\n",
       "    </tr>\n",
       "    <tr>\n",
       "      <th>2</th>\n",
       "      <td>18</td>\n",
       "      <td>5</td>\n",
       "      <td>3</td>\n",
       "      <td>7</td>\n",
       "      <td>7</td>\n",
       "      <td>7</td>\n",
       "      <td>0</td>\n",
       "      <td>Marth</td>\n",
       "    </tr>\n",
       "    <tr>\n",
       "      <th>3</th>\n",
       "      <td>26</td>\n",
       "      <td>8</td>\n",
       "      <td>10</td>\n",
       "      <td>10</td>\n",
       "      <td>9</td>\n",
       "      <td>8</td>\n",
       "      <td>0</td>\n",
       "      <td>Marth</td>\n",
       "    </tr>\n",
       "    <tr>\n",
       "      <th>4</th>\n",
       "      <td>68</td>\n",
       "      <td>31</td>\n",
       "      <td>35</td>\n",
       "      <td>34</td>\n",
       "      <td>39</td>\n",
       "      <td>24</td>\n",
       "      <td>15</td>\n",
       "      <td>Marth</td>\n",
       "    </tr>\n",
       "  </tbody>\n",
       "</table>\n",
       "</div>"
      ],
      "text/plain": [
       "   hp  atk  skl  spd  lck  def  res character\n",
       "0  18    5    3    7    7    7    0     Marth\n",
       "1  22    6    8    9    8    7    0     Marth\n",
       "2  18    5    3    7    7    7    0     Marth\n",
       "3  26    8   10   10    9    8    0     Marth\n",
       "4  68   31   35   34   39   24   15     Marth"
      ]
     },
     "execution_count": 18,
     "metadata": {},
     "output_type": "execute_result"
    }
   ],
   "source": [
    "stat_lines_dataframe = pandas.read_csv(\"../Data/FE_Stats_Data.csv\")\n",
    "# [FE Stats Classifier/FE_Stats_Data_Analysis]: If NaN is found, means we shouldn't include that rows value in calculations later. \n",
    "# So replace with a sentinel value.\n",
    "stat_lines_dataframe.fillna(-99, inplace=True)\n",
    "# [FE Stats Classifier/FE_Stats_Data_Analysis]: Ensure all numeric columns are ints for consistency\n",
    "stat_lines_dataframe = stat_lines_dataframe.astype({ \"skl\": int, \"lck\": int })\n",
    "# [FE Stats Classifier/FE_Stats_Data_Analysis]: Drop last column as it doesn't matter here\n",
    "stat_lines_dataframe.drop(\"label\", axis=1, inplace=True)\n",
    "stat_lines_dataframe.head()\n"
   ]
  }
 ],
 "metadata": {
  "kernelspec": {
   "display_name": "Python 3",
   "language": "python",
   "name": "python3"
  },
  "language_info": {
   "codemirror_mode": {
    "name": "ipython",
    "version": 3
   },
   "file_extension": ".py",
   "mimetype": "text/x-python",
   "name": "python",
   "nbconvert_exporter": "python",
   "pygments_lexer": "ipython3",
   "version": "3.11.1"
  }
 },
 "nbformat": 4,
 "nbformat_minor": 2
}
